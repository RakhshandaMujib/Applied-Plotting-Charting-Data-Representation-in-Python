{
 "cells": [
  {
   "cell_type": "markdown",
   "metadata": {},
   "source": [
    "## Research question:"
   ]
  },
  {
   "cell_type": "markdown",
   "metadata": {},
   "source": [
    "#### How has the GDP of the United States of America changed with the change in female share of employment in senior and middle management (%) and female labor force participation rate (% of female population ages 15+)?"
   ]
  },
  {
   "cell_type": "markdown",
   "metadata": {},
   "source": [
    "The datasets that we are going to use for answering the research questions are:\n",
    "* [GDP (current USD)](https://data.worldbank.org/indicator/NY.GDP.MKTP.CD)\n",
    "* [Female share of employment in senior and middle management (%)](https://data.worldbank.org/indicator/SL.EMP.SMGT.FE.ZS?locations=US)\n",
    "* [Labor force participation rate, female (% of female population ages 15+) (modeled ILO estimate)](https://data.worldbank.org/indicator/SL.TLF.CACT.FE.ZS?end=2018&locations=AF-BT-BD-IN-PK-LK-NP-MV-US-CN-1W&most_recent_value_desc=true&start=2005)\n",
    "\n",
    "All of the above datasets have been downloaded from _World Bank_.\n",
    "<br />\n",
    "<br />\n",
    "<br />"
   ]
  },
  {
   "cell_type": "markdown",
   "metadata": {},
   "source": [
    "## Loading packages:"
   ]
  },
  {
   "cell_type": "code",
   "execution_count": 1,
   "metadata": {
    "collapsed": true
   },
   "outputs": [],
   "source": [
    "import pandas as pd\n",
    "import numpy as np\n",
    "import matplotlib.pyplot as plt\n",
    "import seaborn as sns"
   ]
  },
  {
   "cell_type": "markdown",
   "metadata": {},
   "source": [
    "<br />\n",
    "<br />\n",
    "<br />"
   ]
  },
  {
   "cell_type": "markdown",
   "metadata": {},
   "source": [
    "## Getting familiar with the datasets:"
   ]
  },
  {
   "cell_type": "markdown",
   "metadata": {},
   "source": [
    "Before we move on with reading the datasets, let us have a look at the first 5 lines for each one of them using the method *read_first_5()*:"
   ]
  },
  {
   "cell_type": "code",
   "execution_count": 2,
   "metadata": {
    "collapsed": false
   },
   "outputs": [],
   "source": [
    "def read_first_5 (path):\n",
    "    '''\n",
    "    Argument: \n",
    "      path - String. The path of the file whose lines are to be read.\n",
    "    Returns:\n",
    "      first_5 - List. A list of strings storing the values at each of 5 lines. \n",
    "    '''\n",
    "    with open(path) as file:\n",
    "        first_5 = [next(file) for line in range(5)]\n",
    "    return first_5"
   ]
  },
  {
   "cell_type": "markdown",
   "metadata": {},
   "source": [
    "<br />"
   ]
  },
  {
   "cell_type": "code",
   "execution_count": 3,
   "metadata": {
    "collapsed": false
   },
   "outputs": [
    {
     "data": {
      "text/plain": [
       "['\\ufeff\"Data Source\",\"World Development Indicators\",\\n',\n",
       " '\\n',\n",
       " '\"Last Updated Date\",\"2019-07-10\",\\n',\n",
       " '\\n',\n",
       " '\"Country Name\",\"Country Code\",\"Indicator Name\",\"Indicator Code\",\"1960\",\"1961\",\"1962\",\"1963\",\"1964\",\"1965\",\"1966\",\"1967\",\"1968\",\"1969\",\"1970\",\"1971\",\"1972\",\"1973\",\"1974\",\"1975\",\"1976\",\"1977\",\"1978\",\"1979\",\"1980\",\"1981\",\"1982\",\"1983\",\"1984\",\"1985\",\"1986\",\"1987\",\"1988\",\"1989\",\"1990\",\"1991\",\"1992\",\"1993\",\"1994\",\"1995\",\"1996\",\"1997\",\"1998\",\"1999\",\"2000\",\"2001\",\"2002\",\"2003\",\"2004\",\"2005\",\"2006\",\"2007\",\"2008\",\"2009\",\"2010\",\"2011\",\"2012\",\"2013\",\"2014\",\"2015\",\"2016\",\"2017\",\"2018\",\\n']"
      ]
     },
     "execution_count": 3,
     "metadata": {},
     "output_type": "execute_result"
    }
   ],
   "source": [
    "#GDP dataset:\n",
    "read_first_5('GDP.csv')"
   ]
  },
  {
   "cell_type": "code",
   "execution_count": 4,
   "metadata": {
    "collapsed": false
   },
   "outputs": [
    {
     "data": {
      "text/plain": [
       "['\\ufeff\"Data Source\",\"World Development Indicators\",\\n',\n",
       " '\\n',\n",
       " '\"Last Updated Date\",\"2019-07-10\",\\n',\n",
       " '\\n',\n",
       " '\"Country Name\",\"Country Code\",\"Indicator Name\",\"Indicator Code\",\"1960\",\"1961\",\"1962\",\"1963\",\"1964\",\"1965\",\"1966\",\"1967\",\"1968\",\"1969\",\"1970\",\"1971\",\"1972\",\"1973\",\"1974\",\"1975\",\"1976\",\"1977\",\"1978\",\"1979\",\"1980\",\"1981\",\"1982\",\"1983\",\"1984\",\"1985\",\"1986\",\"1987\",\"1988\",\"1989\",\"1990\",\"1991\",\"1992\",\"1993\",\"1994\",\"1995\",\"1996\",\"1997\",\"1998\",\"1999\",\"2000\",\"2001\",\"2002\",\"2003\",\"2004\",\"2005\",\"2006\",\"2007\",\"2008\",\"2009\",\"2010\",\"2011\",\"2012\",\"2013\",\"2014\",\"2015\",\"2016\",\"2017\",\"2018\",\\n']"
      ]
     },
     "execution_count": 4,
     "metadata": {},
     "output_type": "execute_result"
    }
   ],
   "source": [
    "#Female labor force dataset:\n",
    "read_first_5('female_labor_force.csv')"
   ]
  },
  {
   "cell_type": "code",
   "execution_count": 5,
   "metadata": {
    "collapsed": false
   },
   "outputs": [
    {
     "data": {
      "text/plain": [
       "['\\ufeff\"Data Source\",\"World Development Indicators\",\\n',\n",
       " '\\n',\n",
       " '\"Last Updated Date\",\"2019-07-10\",\\n',\n",
       " '\\n',\n",
       " '\"Country Name\",\"Country Code\",\"Indicator Name\",\"Indicator Code\",\"1960\",\"1961\",\"1962\",\"1963\",\"1964\",\"1965\",\"1966\",\"1967\",\"1968\",\"1969\",\"1970\",\"1971\",\"1972\",\"1973\",\"1974\",\"1975\",\"1976\",\"1977\",\"1978\",\"1979\",\"1980\",\"1981\",\"1982\",\"1983\",\"1984\",\"1985\",\"1986\",\"1987\",\"1988\",\"1989\",\"1990\",\"1991\",\"1992\",\"1993\",\"1994\",\"1995\",\"1996\",\"1997\",\"1998\",\"1999\",\"2000\",\"2001\",\"2002\",\"2003\",\"2004\",\"2005\",\"2006\",\"2007\",\"2008\",\"2009\",\"2010\",\"2011\",\"2012\",\"2013\",\"2014\",\"2015\",\"2016\",\"2017\",\"2018\",\\n']"
      ]
     },
     "execution_count": 5,
     "metadata": {},
     "output_type": "execute_result"
    }
   ],
   "source": [
    "#Female employment share dataset:\n",
    "read_first_5('female_emp_share.csv')"
   ]
  },
  {
   "cell_type": "markdown",
   "metadata": {},
   "source": [
    "<br />\n",
    "All the above files have values separated by commas and the headers (column names) being located at line 5. \n",
    "Let us now read these files with appropriate skipped rows and separators.\n",
    "<br />\n",
    "<br />\n",
    "<br />"
   ]
  },
  {
   "cell_type": "markdown",
   "metadata": {},
   "source": [
    "## Reading and cleaning the datasets:"
   ]
  },
  {
   "cell_type": "code",
   "execution_count": 6,
   "metadata": {
    "collapsed": false,
    "scrolled": true
   },
   "outputs": [],
   "source": [
    "gdp = pd.read_csv('GDP.csv', sep = ',', skiprows = 4)\n",
    "emp_share = pd.read_csv('female_emp_share.csv', sep = ',', skiprows = 4)\n",
    "labor_force = pd.read_csv('female_labor_force.csv', sep = ',', skiprows = 4) "
   ]
  },
  {
   "cell_type": "markdown",
   "metadata": {
    "collapsed": false
   },
   "source": [
    "<br />\n",
    "For answering our research question, we are only interested in the data corresponding to the USA. Thus, we must filter our datframes accordingly. "
   ]
  },
  {
   "cell_type": "code",
   "execution_count": 7,
   "metadata": {
    "collapsed": false
   },
   "outputs": [],
   "source": [
    "gdp = gdp[gdp['Country Code'] == 'USA']\n",
    "emp_share = emp_share[emp_share['Country Code'] == 'USA']\n",
    "labor_force = labor_force[labor_force['Country Code'] == 'USA']"
   ]
  },
  {
   "cell_type": "markdown",
   "metadata": {},
   "source": [
    "<br />\n",
    "Now, the above dataframes are going to have a single row containing the information about the USA like so:"
   ]
  },
  {
   "cell_type": "code",
   "execution_count": 8,
   "metadata": {
    "collapsed": false
   },
   "outputs": [
    {
     "data": {
      "text/html": [
       "<div>\n",
       "<table border=\"1\" class=\"dataframe\">\n",
       "  <thead>\n",
       "    <tr style=\"text-align: right;\">\n",
       "      <th></th>\n",
       "      <th>Country Name</th>\n",
       "      <th>Country Code</th>\n",
       "      <th>Indicator Name</th>\n",
       "      <th>Indicator Code</th>\n",
       "      <th>1960</th>\n",
       "      <th>1961</th>\n",
       "      <th>1962</th>\n",
       "      <th>1963</th>\n",
       "      <th>1964</th>\n",
       "      <th>1965</th>\n",
       "      <th>...</th>\n",
       "      <th>2010</th>\n",
       "      <th>2011</th>\n",
       "      <th>2012</th>\n",
       "      <th>2013</th>\n",
       "      <th>2014</th>\n",
       "      <th>2015</th>\n",
       "      <th>2016</th>\n",
       "      <th>2017</th>\n",
       "      <th>2018</th>\n",
       "      <th>Unnamed: 63</th>\n",
       "    </tr>\n",
       "  </thead>\n",
       "  <tbody>\n",
       "    <tr>\n",
       "      <th>249</th>\n",
       "      <td>United States</td>\n",
       "      <td>USA</td>\n",
       "      <td>GDP (current US$)</td>\n",
       "      <td>NY.GDP.MKTP.CD</td>\n",
       "      <td>5.433000e+11</td>\n",
       "      <td>5.633000e+11</td>\n",
       "      <td>6.051000e+11</td>\n",
       "      <td>6.386000e+11</td>\n",
       "      <td>6.858000e+11</td>\n",
       "      <td>7.437000e+11</td>\n",
       "      <td>...</td>\n",
       "      <td>1.499205e+13</td>\n",
       "      <td>1.554258e+13</td>\n",
       "      <td>1.619701e+13</td>\n",
       "      <td>1.678485e+13</td>\n",
       "      <td>1.752175e+13</td>\n",
       "      <td>1.821930e+13</td>\n",
       "      <td>1.870719e+13</td>\n",
       "      <td>1.948539e+13</td>\n",
       "      <td>2.049410e+13</td>\n",
       "      <td>NaN</td>\n",
       "    </tr>\n",
       "  </tbody>\n",
       "</table>\n",
       "<p>1 rows × 64 columns</p>\n",
       "</div>"
      ],
      "text/plain": [
       "      Country Name Country Code     Indicator Name  Indicator Code  \\\n",
       "249  United States          USA  GDP (current US$)  NY.GDP.MKTP.CD   \n",
       "\n",
       "             1960          1961          1962          1963          1964  \\\n",
       "249  5.433000e+11  5.633000e+11  6.051000e+11  6.386000e+11  6.858000e+11   \n",
       "\n",
       "             1965     ...               2010          2011          2012  \\\n",
       "249  7.437000e+11     ...       1.499205e+13  1.554258e+13  1.619701e+13   \n",
       "\n",
       "             2013          2014          2015          2016          2017  \\\n",
       "249  1.678485e+13  1.752175e+13  1.821930e+13  1.870719e+13  1.948539e+13   \n",
       "\n",
       "             2018  Unnamed: 63  \n",
       "249  2.049410e+13          NaN  \n",
       "\n",
       "[1 rows x 64 columns]"
      ]
     },
     "execution_count": 8,
     "metadata": {},
     "output_type": "execute_result"
    }
   ],
   "source": [
    "gdp"
   ]
  },
  {
   "cell_type": "markdown",
   "metadata": {},
   "source": [
    "<br />\n",
    "For future use, it is a good idea to transpose these dataframes so that we can combine them to get a single dataframe that will have the necessary information about the USA."
   ]
  },
  {
   "cell_type": "code",
   "execution_count": 9,
   "metadata": {
    "collapsed": true
   },
   "outputs": [],
   "source": [
    "gdp = gdp.transpose()\n",
    "emp_share = emp_share.transpose()\n",
    "labor_force = labor_force.transpose()"
   ]
  },
  {
   "cell_type": "markdown",
   "metadata": {},
   "source": [
    "<br />\n",
    "<br />\n",
    "<br />"
   ]
  },
  {
   "cell_type": "markdown",
   "metadata": {},
   "source": [
    "## Creating the _usa_ dataframe:"
   ]
  },
  {
   "cell_type": "code",
   "execution_count": 10,
   "metadata": {
    "collapsed": false
   },
   "outputs": [
    {
     "data": {
      "text/html": [
       "<div>\n",
       "<table border=\"1\" class=\"dataframe\">\n",
       "  <thead>\n",
       "    <tr style=\"text-align: right;\">\n",
       "      <th></th>\n",
       "      <th>249</th>\n",
       "      <th>249</th>\n",
       "      <th>249</th>\n",
       "    </tr>\n",
       "  </thead>\n",
       "  <tbody>\n",
       "    <tr>\n",
       "      <th>Country Name</th>\n",
       "      <td>United States</td>\n",
       "      <td>United States</td>\n",
       "      <td>United States</td>\n",
       "    </tr>\n",
       "    <tr>\n",
       "      <th>Country Code</th>\n",
       "      <td>USA</td>\n",
       "      <td>USA</td>\n",
       "      <td>USA</td>\n",
       "    </tr>\n",
       "    <tr>\n",
       "      <th>Indicator Name</th>\n",
       "      <td>GDP (current US$)</td>\n",
       "      <td>Female share of employment in senior and middl...</td>\n",
       "      <td>Labor force participation rate, female (% of f...</td>\n",
       "    </tr>\n",
       "    <tr>\n",
       "      <th>Indicator Code</th>\n",
       "      <td>NY.GDP.MKTP.CD</td>\n",
       "      <td>SL.EMP.SMGT.FE.ZS</td>\n",
       "      <td>SL.TLF.CACT.FE.ZS</td>\n",
       "    </tr>\n",
       "    <tr>\n",
       "      <th>1960</th>\n",
       "      <td>5.433e+11</td>\n",
       "      <td>NaN</td>\n",
       "      <td>NaN</td>\n",
       "    </tr>\n",
       "  </tbody>\n",
       "</table>\n",
       "</div>"
      ],
      "text/plain": [
       "                              249  \\\n",
       "Country Name        United States   \n",
       "Country Code                  USA   \n",
       "Indicator Name  GDP (current US$)   \n",
       "Indicator Code     NY.GDP.MKTP.CD   \n",
       "1960                    5.433e+11   \n",
       "\n",
       "                                                              249  \\\n",
       "Country Name                                        United States   \n",
       "Country Code                                                  USA   \n",
       "Indicator Name  Female share of employment in senior and middl...   \n",
       "Indicator Code                                  SL.EMP.SMGT.FE.ZS   \n",
       "1960                                                          NaN   \n",
       "\n",
       "                                                              249  \n",
       "Country Name                                        United States  \n",
       "Country Code                                                  USA  \n",
       "Indicator Name  Labor force participation rate, female (% of f...  \n",
       "Indicator Code                                  SL.TLF.CACT.FE.ZS  \n",
       "1960                                                          NaN  "
      ]
     },
     "execution_count": 10,
     "metadata": {},
     "output_type": "execute_result"
    }
   ],
   "source": [
    "gdp_emp = pd.concat([gdp, emp_share], axis = 1) #Concatenating gdp and emp_share by column.\n",
    "usa = pd.concat([gdp_emp, labor_force], axis = 1) #Concatenating gdp_emp and labor_force by column.\n",
    "usa.head()"
   ]
  },
  {
   "cell_type": "markdown",
   "metadata": {},
   "source": [
    "<br />\n",
    "The next step after creating a dataframe is to clean it."
   ]
  },
  {
   "cell_type": "code",
   "execution_count": 11,
   "metadata": {
    "collapsed": false
   },
   "outputs": [
    {
     "data": {
      "text/html": [
       "<div>\n",
       "<table border=\"1\" class=\"dataframe\">\n",
       "  <thead>\n",
       "    <tr style=\"text-align: right;\">\n",
       "      <th></th>\n",
       "      <th>index</th>\n",
       "      <th>249</th>\n",
       "      <th>249</th>\n",
       "      <th>249</th>\n",
       "    </tr>\n",
       "  </thead>\n",
       "  <tbody>\n",
       "    <tr>\n",
       "      <th>0</th>\n",
       "      <td>Country Name</td>\n",
       "      <td>United States</td>\n",
       "      <td>United States</td>\n",
       "      <td>United States</td>\n",
       "    </tr>\n",
       "    <tr>\n",
       "      <th>1</th>\n",
       "      <td>Country Code</td>\n",
       "      <td>USA</td>\n",
       "      <td>USA</td>\n",
       "      <td>USA</td>\n",
       "    </tr>\n",
       "    <tr>\n",
       "      <th>2</th>\n",
       "      <td>Indicator Name</td>\n",
       "      <td>GDP (current US$)</td>\n",
       "      <td>Female share of employment in senior and middl...</td>\n",
       "      <td>Labor force participation rate, female (% of f...</td>\n",
       "    </tr>\n",
       "    <tr>\n",
       "      <th>3</th>\n",
       "      <td>Indicator Code</td>\n",
       "      <td>NY.GDP.MKTP.CD</td>\n",
       "      <td>SL.EMP.SMGT.FE.ZS</td>\n",
       "      <td>SL.TLF.CACT.FE.ZS</td>\n",
       "    </tr>\n",
       "    <tr>\n",
       "      <th>4</th>\n",
       "      <td>2000</td>\n",
       "      <td>1.02523e+13</td>\n",
       "      <td>35.31</td>\n",
       "      <td>59.026</td>\n",
       "    </tr>\n",
       "  </tbody>\n",
       "</table>\n",
       "</div>"
      ],
      "text/plain": [
       "            index                249  \\\n",
       "0    Country Name      United States   \n",
       "1    Country Code                USA   \n",
       "2  Indicator Name  GDP (current US$)   \n",
       "3  Indicator Code     NY.GDP.MKTP.CD   \n",
       "4            2000        1.02523e+13   \n",
       "\n",
       "                                                 249  \\\n",
       "0                                      United States   \n",
       "1                                                USA   \n",
       "2  Female share of employment in senior and middl...   \n",
       "3                                  SL.EMP.SMGT.FE.ZS   \n",
       "4                                              35.31   \n",
       "\n",
       "                                                 249  \n",
       "0                                      United States  \n",
       "1                                                USA  \n",
       "2  Labor force participation rate, female (% of f...  \n",
       "3                                  SL.TLF.CACT.FE.ZS  \n",
       "4                                             59.026  "
      ]
     },
     "execution_count": 11,
     "metadata": {},
     "output_type": "execute_result"
    }
   ],
   "source": [
    "usa.dropna(inplace = True) #Dropping the NaN's.\n",
    "usa.reset_index(inplace = True) #Resetting the index.\n",
    "usa.head()"
   ]
  },
  {
   "cell_type": "markdown",
   "metadata": {},
   "source": [
    "<br />\n",
    "Looking at the above dataframe we can say:\n",
    "* The actual numeraical values that we are interested in starts from index 4 (2000\t1.02523e+13\t35.31\t59.026).\n",
    "* Index 2 has the labels of the subsequent values that we might want to make the column names.\n",
    "* Index 3 gives us the Indicator Code that will serve no extra purpose. \n",
    "<br />\n",
    "Thus, let us rename the column values with that of the values at index 2. <br />\n",
    "Since, having 'Indicator Name' as a column name for values that indicate the year for which we have data makes no sense, we might as well call the year column, 'Year'.\n",
    "<br />\n",
    "<br />"
   ]
  },
  {
   "cell_type": "code",
   "execution_count": 12,
   "metadata": {
    "collapsed": false
   },
   "outputs": [
    {
     "data": {
      "text/html": [
       "<div>\n",
       "<table border=\"1\" class=\"dataframe\">\n",
       "  <thead>\n",
       "    <tr style=\"text-align: right;\">\n",
       "      <th></th>\n",
       "      <th>Year</th>\n",
       "      <th>GDP (current US$)</th>\n",
       "      <th>Female share of employment in senior and middle management (%)</th>\n",
       "      <th>Labor force participation rate, female (% of female population ages 15+) (modeled ILO estimate)</th>\n",
       "    </tr>\n",
       "  </thead>\n",
       "  <tbody>\n",
       "    <tr>\n",
       "      <th>4</th>\n",
       "      <td>2000</td>\n",
       "      <td>1.02523e+13</td>\n",
       "      <td>35.31</td>\n",
       "      <td>59.026</td>\n",
       "    </tr>\n",
       "    <tr>\n",
       "      <th>5</th>\n",
       "      <td>2001</td>\n",
       "      <td>1.05818e+13</td>\n",
       "      <td>35.88</td>\n",
       "      <td>58.809</td>\n",
       "    </tr>\n",
       "    <tr>\n",
       "      <th>6</th>\n",
       "      <td>2002</td>\n",
       "      <td>1.09364e+13</td>\n",
       "      <td>36.4</td>\n",
       "      <td>58.591</td>\n",
       "    </tr>\n",
       "    <tr>\n",
       "      <th>7</th>\n",
       "      <td>2003</td>\n",
       "      <td>1.14582e+13</td>\n",
       "      <td>37.38</td>\n",
       "      <td>58.458</td>\n",
       "    </tr>\n",
       "    <tr>\n",
       "      <th>8</th>\n",
       "      <td>2004</td>\n",
       "      <td>1.22137e+13</td>\n",
       "      <td>37.27</td>\n",
       "      <td>58.154</td>\n",
       "    </tr>\n",
       "  </tbody>\n",
       "</table>\n",
       "</div>"
      ],
      "text/plain": [
       "   Year GDP (current US$)  \\\n",
       "4  2000       1.02523e+13   \n",
       "5  2001       1.05818e+13   \n",
       "6  2002       1.09364e+13   \n",
       "7  2003       1.14582e+13   \n",
       "8  2004       1.22137e+13   \n",
       "\n",
       "  Female share of employment in senior and middle management (%)  \\\n",
       "4                                              35.31               \n",
       "5                                              35.88               \n",
       "6                                               36.4               \n",
       "7                                              37.38               \n",
       "8                                              37.27               \n",
       "\n",
       "  Labor force participation rate, female (% of female population ages 15+) (modeled ILO estimate)  \n",
       "4                                             59.026                                               \n",
       "5                                             58.809                                               \n",
       "6                                             58.591                                               \n",
       "7                                             58.458                                               \n",
       "8                                             58.154                                               "
      ]
     },
     "execution_count": 12,
     "metadata": {},
     "output_type": "execute_result"
    }
   ],
   "source": [
    "names = ['Year']+list(usa.iloc[2][1:]) #Creating a list of column names.\n",
    "usa.columns = (names) #Renaming the columns.\n",
    "usa = usa[4:] #Deleting the top 5 rows (including the header)\n",
    "usa.head()"
   ]
  },
  {
   "cell_type": "markdown",
   "metadata": {},
   "source": [
    "<br />\n",
    "Our dataframe is ready but there's still one problem left to be tackled- the index values. Since, we have dropped the first 4 rows, our indexing is starting from 4 instead of 0. Thus, we need to reset our indices once again.\n",
    "<br />"
   ]
  },
  {
   "cell_type": "code",
   "execution_count": 13,
   "metadata": {
    "collapsed": false
   },
   "outputs": [
    {
     "data": {
      "text/html": [
       "<div>\n",
       "<table border=\"1\" class=\"dataframe\">\n",
       "  <thead>\n",
       "    <tr style=\"text-align: right;\">\n",
       "      <th></th>\n",
       "      <th>Year</th>\n",
       "      <th>GDP (current US$)</th>\n",
       "      <th>Female share of employment in senior and middle management (%)</th>\n",
       "      <th>Labor force participation rate, female (% of female population ages 15+) (modeled ILO estimate)</th>\n",
       "    </tr>\n",
       "  </thead>\n",
       "  <tbody>\n",
       "    <tr>\n",
       "      <th>0</th>\n",
       "      <td>2000</td>\n",
       "      <td>1.02523e+13</td>\n",
       "      <td>35.31</td>\n",
       "      <td>59.026</td>\n",
       "    </tr>\n",
       "    <tr>\n",
       "      <th>1</th>\n",
       "      <td>2001</td>\n",
       "      <td>1.05818e+13</td>\n",
       "      <td>35.88</td>\n",
       "      <td>58.809</td>\n",
       "    </tr>\n",
       "    <tr>\n",
       "      <th>2</th>\n",
       "      <td>2002</td>\n",
       "      <td>1.09364e+13</td>\n",
       "      <td>36.4</td>\n",
       "      <td>58.591</td>\n",
       "    </tr>\n",
       "    <tr>\n",
       "      <th>3</th>\n",
       "      <td>2003</td>\n",
       "      <td>1.14582e+13</td>\n",
       "      <td>37.38</td>\n",
       "      <td>58.458</td>\n",
       "    </tr>\n",
       "    <tr>\n",
       "      <th>4</th>\n",
       "      <td>2004</td>\n",
       "      <td>1.22137e+13</td>\n",
       "      <td>37.27</td>\n",
       "      <td>58.154</td>\n",
       "    </tr>\n",
       "  </tbody>\n",
       "</table>\n",
       "</div>"
      ],
      "text/plain": [
       "   Year GDP (current US$)  \\\n",
       "0  2000       1.02523e+13   \n",
       "1  2001       1.05818e+13   \n",
       "2  2002       1.09364e+13   \n",
       "3  2003       1.14582e+13   \n",
       "4  2004       1.22137e+13   \n",
       "\n",
       "  Female share of employment in senior and middle management (%)  \\\n",
       "0                                              35.31               \n",
       "1                                              35.88               \n",
       "2                                               36.4               \n",
       "3                                              37.38               \n",
       "4                                              37.27               \n",
       "\n",
       "  Labor force participation rate, female (% of female population ages 15+) (modeled ILO estimate)  \n",
       "0                                             59.026                                               \n",
       "1                                             58.809                                               \n",
       "2                                             58.591                                               \n",
       "3                                             58.458                                               \n",
       "4                                             58.154                                               "
      ]
     },
     "execution_count": 13,
     "metadata": {},
     "output_type": "execute_result"
    }
   ],
   "source": [
    "usa.reset_index(inplace = True) #This will create a new column called 'index' which will store the old index values.\n",
    "usa.drop(['index'], axis= 1,inplace = True) #Dropping the 'index' column.\n",
    "usa.head()"
   ]
  },
  {
   "cell_type": "markdown",
   "metadata": {},
   "source": [
    "<br />\n",
    "Now, that our dataframe is ready, let us move ahead with constructing appropriate plot to answer our research question. \n",
    "<br />\n",
    "<br />\n",
    "<br />"
   ]
  },
  {
   "cell_type": "markdown",
   "metadata": {
    "collapsed": true
   },
   "source": [
    "## Constructing the plot:"
   ]
  },
  {
   "cell_type": "markdown",
   "metadata": {},
   "source": [
    "Setting the canvas:"
   ]
  },
  {
   "cell_type": "code",
   "execution_count": 14,
   "metadata": {
    "collapsed": true
   },
   "outputs": [],
   "source": [
    "fig = plt.figure(figsize = (12,8))"
   ]
  },
  {
   "cell_type": "markdown",
   "metadata": {},
   "source": [
    "<br />\n",
    "For the columns 'Female share of employment in senior and middle management (%)' and 'Labor force participation rate, female (% of female population ages 15+) (modeled ILO estimate)', we have the values in percentage. \n",
    "In order to highlight the difference in their trends from the year 2000 to 2018, we are going to plot lines for their percentages.\n",
    "<br />"
   ]
  },
  {
   "cell_type": "code",
   "execution_count": 15,
   "metadata": {
    "collapsed": false
   },
   "outputs": [
    {
     "data": {
      "text/plain": [
       "<matplotlib.text.Text at 0x7f37fe7d6908>"
      ]
     },
     "execution_count": 15,
     "metadata": {},
     "output_type": "execute_result"
    }
   ],
   "source": [
    "fig.add_subplot(2, 1, 1) #2 row, 1 col, current axis = 1\n",
    "\n",
    "plt.plot(usa.iloc[:,2], '--o', usa.iloc[:,3], '--o') #Plotting the lines.\n",
    "plt.gca().set_xticks([]) #Turning off the x ticks for this sub-plot.\n",
    "\n",
    "#Adding legends, labels and title:\n",
    "plt.legend(['Female share of employment in senior and middle management', 'Female labor force participation rate'])\n",
    "plt.ylabel('Percentage')\n",
    "plt.title('Change in the US GDP wrt female labor force participation rate and share of employment in senior and middle management:')"
   ]
  },
  {
   "cell_type": "markdown",
   "metadata": {},
   "source": [
    "<br />\n",
    "For the 'GDP (current US$)' column, however, we are going to plot some bar charts that will take up the monetary values for each corresponding year in the duration 2000-18.\n",
    "<br />"
   ]
  },
  {
   "cell_type": "code",
   "execution_count": 16,
   "metadata": {
    "collapsed": false
   },
   "outputs": [
    {
     "data": {
      "text/plain": [
       "<matplotlib.text.Text at 0x7f37fe754b38>"
      ]
     },
     "execution_count": 16,
     "metadata": {},
     "output_type": "execute_result"
    }
   ],
   "source": [
    "ax = fig.add_subplot(2, 1, 2) #2 row, 1 col, current axis = 2\n",
    "ax.set_facecolor('white') #Setting the background colour to white.\n",
    "\n",
    "x_pos = np.arange(len(usa['Year'])) #Creating a range for positioning the bars along the x-axis.\n",
    "plt.xticks(x_pos, usa['Year']) #Renaming the xticks with 'Year'.\n",
    "\n",
    "plt.bar(x_pos, usa['GDP (current US$)'], color = 'brown') #Plotting the bars.\n",
    "\n",
    "#Adding labels:\n",
    "plt.xlabel('Year')\n",
    "plt.ylabel('GDP in current USD')"
   ]
  },
  {
   "cell_type": "markdown",
   "metadata": {},
   "source": [
    "<br />\n",
    "Now, let us view our plot.\n",
    "<br />"
   ]
  },
  {
   "cell_type": "code",
   "execution_count": 17,
   "metadata": {
    "collapsed": false
   },
   "outputs": [
    {
     "data": {
      "image/png": "[encoded data removed]",
      "text/plain": [
       "<matplotlib.figure.Figure at 0x7f37fe84f0f0>"
      ]
     },
     "metadata": {},
     "output_type": "display_data"
    }
   ],
   "source": [
    "plt.show()"
   ]
  },
  {
   "cell_type": "markdown",
   "metadata": {},
   "source": [
    "<br />\n",
    "From the above plot we learn that with an increase in the US GDP, the female share of employment in senior and middle management has also shown an overall increase, from roughly 35% in 2000 to 41% in 2018, which is not the case with the female labor force participation, that evidently dropped from about 59% to 56% in the 18 years. However, since this wasn't an experimental study but an observational one, we cannot form any causal relationship. There is a correlation but, definitely no causation. \n",
    "<br />"
   ]
  },
  {
   "cell_type": "code",
   "execution_count": null,
   "metadata": {
    "collapsed": true
   },
   "outputs": [],
   "source": []
  }
 ],
 "metadata": {
  "kernelspec": {
   "display_name": "Python 3",
   "language": "python",
   "name": "python3"
  },
  "language_info": {
   "codemirror_mode": {
    "name": "ipython",
    "version": 3
   },
   "file_extension": ".py",
   "mimetype": "text/x-python",
   "name": "python",
   "nbconvert_exporter": "python",
   "pygments_lexer": "ipython3",
   "version": "3.6.2"
  }
 },
 "nbformat": 4,
 "nbformat_minor": 1
}
